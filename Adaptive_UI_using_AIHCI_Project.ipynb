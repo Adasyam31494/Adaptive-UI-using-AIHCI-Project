{
  "nbformat": 4,
  "nbformat_minor": 0,
  "metadata": {
    "colab": {
      "provenance": [],
      "authorship_tag": "ABX9TyOm5521rmjNg2EjR43xafQb",
      "include_colab_link": true
    },
    "kernelspec": {
      "name": "python3",
      "display_name": "Python 3"
    },
    "language_info": {
      "name": "python"
    }
  },
  "cells": [
    {
      "cell_type": "markdown",
      "metadata": {
        "id": "view-in-github",
        "colab_type": "text"
      },
      "source": [
        "<a href=\"https://colab.research.google.com/github/Adasyam31494/Adaptive-UI-using-AIHCI-Project/blob/main/Adaptive_UI_using_AIHCI_Project.ipynb\" target=\"_parent\"><img src=\"https://colab.research.google.com/assets/colab-badge.svg\" alt=\"Open In Colab\"/></a>"
      ]
    },
    {
      "cell_type": "code",
      "execution_count": null,
      "metadata": {
        "colab": {
          "base_uri": "https://localhost:8080/"
        },
        "id": "3qhfBzvFGdNm",
        "outputId": "8766eb75-c574-405a-ebb1-ac10cf52b8ec"
      },
      "outputs": [
        {
          "output_type": "stream",
          "name": "stdout",
          "text": [
            "Requirement already satisfied: textblob in /usr/local/lib/python3.11/dist-packages (0.19.0)\n",
            "Requirement already satisfied: nltk>=3.9 in /usr/local/lib/python3.11/dist-packages (from textblob) (3.9.1)\n",
            "Requirement already satisfied: click in /usr/local/lib/python3.11/dist-packages (from nltk>=3.9->textblob) (8.1.8)\n",
            "Requirement already satisfied: joblib in /usr/local/lib/python3.11/dist-packages (from nltk>=3.9->textblob) (1.4.2)\n",
            "Requirement already satisfied: regex>=2021.8.3 in /usr/local/lib/python3.11/dist-packages (from nltk>=3.9->textblob) (2024.11.6)\n",
            "Requirement already satisfied: tqdm in /usr/local/lib/python3.11/dist-packages (from nltk>=3.9->textblob) (4.67.1)\n",
            "Welcome to the Adaptive Chatbot! Type 'exit' to stop.\n",
            "You: I am really happy with the progress\n",
            "User Sentiment: Positive (0.80)\n",
            "Chatbot: I'm glad to hear that! 😊 Let me know how else I can assist you.\n",
            "You: I'm feeling a bit frustrated with this task.\n",
            "User Sentiment: Negative (-0.70)\n",
            "Chatbot: I'm sorry you're feeling that way. 😔 I'm here to help.\n",
            "You: This is exactly what I needed—thank you so much!\n",
            "User Sentiment: Neutral (0.25)\n",
            "Chatbot: Thanks for sharing. What would you like to talk about next?\n"
          ]
        }
      ],
      "source": [
        "!pip install textblob\n",
        "from textblob import TextBlob\n",
        "\n",
        "def adaptive_chatbot(user_input):\n",
        "    sentiment = TextBlob(user_input).sentiment.polarity\n",
        "    if sentiment > 0.3:\n",
        "        mood = \"positive\"\n",
        "        response = \"I'm glad to hear that! 😊 Let me know how else I can assist you.\"\n",
        "    elif sentiment < -0.3:\n",
        "        mood = \"negative\"\n",
        "        response = \"I'm sorry you're feeling that way. 😔 I'm here to help.\"\n",
        "    else:\n",
        "        mood = \"neutral\"\n",
        "        response = \"Thanks for sharing. What would you like to talk about next?\"\n",
        "    print(f\"User Sentiment: {mood.capitalize()} ({sentiment:.2f})\")\n",
        "    print(\"Chatbot:\", response)\n",
        "\n",
        "print(\"Welcome to the Adaptive Chatbot! Type 'exit' to stop.\")\n",
        "while True:\n",
        "    user_input = input(\"You: \")\n",
        "    if user_input.lower() == 'exit':\n",
        "        print(\"Chatbot: Goodbye! Have a great day. 👋\")\n",
        "        break\n",
        "    adaptive_chatbot(user_input)"
      ]
    }
  ]
}